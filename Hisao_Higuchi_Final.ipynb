{
  "nbformat": 4,
  "nbformat_minor": 0,
  "metadata": {
    "colab": {
      "name": "Hisao Higuchi - Final",
      "provenance": [],
      "collapsed_sections": []
    },
    "kernelspec": {
      "display_name": "Python 3",
      "language": "python",
      "name": "python3"
    },
    "language_info": {
      "codemirror_mode": {
        "name": "ipython",
        "version": 3
      },
      "file_extension": ".py",
      "mimetype": "text/x-python",
      "name": "python",
      "nbconvert_exporter": "python",
      "pygments_lexer": "ipython3",
      "version": "3.6.5"
    },
    "latex_envs": {
      "LaTeX_envs_menu_present": true,
      "autoclose": false,
      "autocomplete": true,
      "bibliofile": "biblio.bib",
      "cite_by": "apalike",
      "current_citInitial": 1,
      "eqLabelWithNumbers": true,
      "eqNumInitial": 1,
      "hotkeys": {
        "equation": "Ctrl-E",
        "itemize": "Ctrl-I"
      },
      "labels_anchors": false,
      "latex_user_defs": false,
      "report_style_numbering": false,
      "user_envs_cfg": false
    },
    "toc": {
      "base_numbering": 1,
      "nav_menu": {},
      "number_sections": true,
      "sideBar": true,
      "skip_h1_title": false,
      "title_cell": "Table of Contents",
      "title_sidebar": "Contents",
      "toc_cell": false,
      "toc_position": {},
      "toc_section_display": true,
      "toc_window_display": false
    },
    "varInspector": {
      "cols": {
        "lenName": 16,
        "lenType": 16,
        "lenVar": 40
      },
      "kernels_config": {
        "python": {
          "delete_cmd_postfix": "",
          "delete_cmd_prefix": "del ",
          "library": "var_list.py",
          "varRefreshCmd": "print(var_dic_list())"
        },
        "r": {
          "delete_cmd_postfix": ") ",
          "delete_cmd_prefix": "rm(",
          "library": "var_list.r",
          "varRefreshCmd": "cat(var_dic_list()) "
        }
      },
      "types_to_exclude": [
        "module",
        "function",
        "builtin_function_or_method",
        "instance",
        "_Feature"
      ],
      "window_display": false
    }
  },
  "cells": [
    {
      "cell_type": "markdown",
      "metadata": {
        "id": "xxBIdqid5Q5U"
      },
      "source": [
        "To open notebook in Colab please click below:\n",
        "\n",
        "<a href=\"https://colab.research.google.com/github/bwolfson2/2020_DS_test/blob/main/2020_test/2021_final.ipynb\" target=\"_parent\"> <img src=\"https://colab.research.google.com/assets/colab-badge.svg\" alt=\"Open In Colab\" /> </a>'"
      ]
    },
    {
      "cell_type": "markdown",
      "metadata": {
        "ExecuteTime": {
          "end_time": "2021-08-12T08:18:17.763295Z",
          "start_time": "2021-08-12T08:18:17.758434Z"
        },
        "collapsed": true,
        "id": "8KBzzXDf32UC"
      },
      "source": [
        "Please answer as many of the questions in this notebook as you can.  "
      ]
    },
    {
      "cell_type": "markdown",
      "metadata": {
        "id": "k-kKyLxwb_OI"
      },
      "source": [
        "**(Q1)**  *(0.5 points)*: Please read the following dataset into a DataFrame:  \"https://raw.githubusercontent.com/bwolfson2/2020_DS_test/main/2020_test/fraud_data.csv\" and report back the number of unique \"transaction_type\" values. (Use the same method we usually use to read in csv's)"
      ]
    },
    {
      "cell_type": "code",
      "metadata": {
        "ExecuteTime": {
          "end_time": "2021-08-12T08:42:39.746280Z",
          "start_time": "2021-08-12T08:42:39.701132Z"
        },
        "id": "lMm-6TqPcSXj"
      },
      "source": [
        "import os\n",
        "import numpy as np\n",
        "import math\n",
        "\n",
        "import pandas as pd\n",
        "\n",
        "import matplotlib.pylab as plt\n",
        "import seaborn as sns\n",
        "\n",
        "import statsmodels.api as smf\n",
        "\n",
        "from sklearn.linear_model import LogisticRegression\n",
        "from sklearn.model_selection import train_test_split\n",
        "import sklearn.metrics as metrics\n",
        "\n",
        "#YOUR CODE HERE\n",
        "\n",
        "df = pd.read_csv(\"https://raw.githubusercontent.com/bwolfson2/2020_DS_test/main/2020_test/fraud_data.csv\")"
      ],
      "execution_count": 2,
      "outputs": []
    },
    {
      "cell_type": "code",
      "metadata": {
        "colab": {
          "base_uri": "https://localhost:8080/",
          "height": 204
        },
        "id": "a07vnPfvsh9o",
        "outputId": "25231abc-f602-4aad-aeef-a0cd79f8b805"
      },
      "source": [
        "df.head()"
      ],
      "execution_count": 3,
      "outputs": [
        {
          "output_type": "execute_result",
          "data": {
            "text/html": [
              "<div>\n",
              "<style scoped>\n",
              "    .dataframe tbody tr th:only-of-type {\n",
              "        vertical-align: middle;\n",
              "    }\n",
              "\n",
              "    .dataframe tbody tr th {\n",
              "        vertical-align: top;\n",
              "    }\n",
              "\n",
              "    .dataframe thead th {\n",
              "        text-align: right;\n",
              "    }\n",
              "</style>\n",
              "<table border=\"1\" class=\"dataframe\">\n",
              "  <thead>\n",
              "    <tr style=\"text-align: right;\">\n",
              "      <th></th>\n",
              "      <th>Unnamed: 0</th>\n",
              "      <th>transaction_amt</th>\n",
              "      <th>transaction_type</th>\n",
              "      <th>balance</th>\n",
              "      <th>fraud</th>\n",
              "    </tr>\n",
              "  </thead>\n",
              "  <tbody>\n",
              "    <tr>\n",
              "      <th>0</th>\n",
              "      <td>1</td>\n",
              "      <td>773.18</td>\n",
              "      <td>Retail</td>\n",
              "      <td>2611.78</td>\n",
              "      <td>0</td>\n",
              "    </tr>\n",
              "    <tr>\n",
              "      <th>1</th>\n",
              "      <td>2</td>\n",
              "      <td>147.71</td>\n",
              "      <td>Restaurant</td>\n",
              "      <td>1680.93</td>\n",
              "      <td>0</td>\n",
              "    </tr>\n",
              "    <tr>\n",
              "      <th>2</th>\n",
              "      <td>3</td>\n",
              "      <td>217.75</td>\n",
              "      <td>Restaurant</td>\n",
              "      <td>2679.79</td>\n",
              "      <td>0</td>\n",
              "    </tr>\n",
              "    <tr>\n",
              "      <th>3</th>\n",
              "      <td>4</td>\n",
              "      <td>414.76</td>\n",
              "      <td>Retail</td>\n",
              "      <td>4070.24</td>\n",
              "      <td>1</td>\n",
              "    </tr>\n",
              "    <tr>\n",
              "      <th>4</th>\n",
              "      <td>5</td>\n",
              "      <td>32.57</td>\n",
              "      <td>Gas</td>\n",
              "      <td>2109.33</td>\n",
              "      <td>0</td>\n",
              "    </tr>\n",
              "  </tbody>\n",
              "</table>\n",
              "</div>"
            ],
            "text/plain": [
              "   Unnamed: 0  transaction_amt transaction_type  balance  fraud\n",
              "0           1           773.18           Retail  2611.78      0\n",
              "1           2           147.71       Restaurant  1680.93      0\n",
              "2           3           217.75       Restaurant  2679.79      0\n",
              "3           4           414.76           Retail  4070.24      1\n",
              "4           5            32.57              Gas  2109.33      0"
            ]
          },
          "metadata": {
            "tags": []
          },
          "execution_count": 3
        }
      ]
    },
    {
      "cell_type": "markdown",
      "metadata": {
        "ExecuteTime": {
          "end_time": "2021-08-12T08:11:37.454792Z",
          "start_time": "2021-08-12T08:11:37.449905Z"
        },
        "id": "UabcO2vP32UE"
      },
      "source": [
        "**(Q2)**  *(0.5 points)*: Please plot the distribution of each variable."
      ]
    },
    {
      "cell_type": "code",
      "metadata": {
        "ExecuteTime": {
          "end_time": "2021-08-12T08:42:41.687535Z",
          "start_time": "2021-08-12T08:42:41.424251Z"
        },
        "id": "E8tlRk-P32UE",
        "colab": {
          "base_uri": "https://localhost:8080/",
          "height": 366
        },
        "outputId": "7fd3b143-ca05-4cf9-a882-d9b2d4ec9d18"
      },
      "source": [
        "#YOUR CODE HERE\n",
        "df.hist()"
      ],
      "execution_count": 4,
      "outputs": [
        {
          "output_type": "execute_result",
          "data": {
            "text/plain": [
              "array([[<matplotlib.axes._subplots.AxesSubplot object at 0x7f4c7bf6d890>,\n",
              "        <matplotlib.axes._subplots.AxesSubplot object at 0x7f4c7bef88d0>],\n",
              "       [<matplotlib.axes._subplots.AxesSubplot object at 0x7f4c7beb1f50>,\n",
              "        <matplotlib.axes._subplots.AxesSubplot object at 0x7f4c7be73610>]],\n",
              "      dtype=object)"
            ]
          },
          "metadata": {
            "tags": []
          },
          "execution_count": 4
        },
        {
          "output_type": "display_data",
          "data": {
            "image/png": "[encoded data removed]",
            "text/plain": [
              "<Figure size 432x288 with 4 Axes>"
            ]
          },
          "metadata": {
            "tags": [],
            "needs_background": "light"
          }
        }
      ]
    },
    {
      "cell_type": "markdown",
      "metadata": {
        "id": "S88k6KV6cW7j"
      },
      "source": [
        "**(Q3)**  *(1 point)*: You will be building a predictor to detect whether a credit card transaction is a `fraud` or not by estimating models using the remaining attributes in the data set.  \n",
        "\n",
        "Preprocess the data so that the text values are dummy variables numeric and split it into a train and test sample with 30% of the data in the test sample. "
      ]
    },
    {
      "cell_type": "code",
      "metadata": {
        "ExecuteTime": {
          "end_time": "2021-08-12T08:42:43.190662Z",
          "start_time": "2021-08-12T08:42:43.168943Z"
        },
        "collapsed": true,
        "id": "DzYtK5A432UF"
      },
      "source": [
        "#YOUR CODE HERE\n",
        "df_dummy = pd.get_dummies(df['transaction_type'])"
      ],
      "execution_count": 5,
      "outputs": []
    },
    {
      "cell_type": "code",
      "metadata": {
        "id": "pAAxqACktev_"
      },
      "source": [
        "df_combine = df.join(df_dummy)"
      ],
      "execution_count": 7,
      "outputs": []
    },
    {
      "cell_type": "code",
      "metadata": {
        "id": "oU8JUMURtqBl"
      },
      "source": [
        "df_final = df_combine.drop(columns=['Unnamed: 0','transaction_type'])"
      ],
      "execution_count": 9,
      "outputs": []
    },
    {
      "cell_type": "code",
      "metadata": {
        "id": "11OvGMWAt8Sp"
      },
      "source": [
        "df_final"
      ],
      "execution_count": null,
      "outputs": []
    },
    {
      "cell_type": "code",
      "metadata": {
        "id": "lRFaq4CRu2l8"
      },
      "source": [
        "target = \"fraud\"\n",
        "features = df_final.columns[df_final.columns != target]"
      ],
      "execution_count": 14,
      "outputs": []
    },
    {
      "cell_type": "code",
      "metadata": {
        "id": "WgjoJyeNuEma"
      },
      "source": [
        "df_train, df_test = train_test_split(df_final, test_size=.3, random_state=42)"
      ],
      "execution_count": 11,
      "outputs": []
    },
    {
      "cell_type": "markdown",
      "metadata": {
        "id": "QqvX4QdOdQaT"
      },
      "source": [
        "**(Q4)** *(3 points)* Now use `scikitlearn` to fit a Logistic Regression.   *(1 point)*: \n",
        "\n",
        "Once you have estimated the model:\n",
        "* print the model coefficients \n",
        "* make predictions using the test data  \n",
        "* calculate and report the AUC  \n",
        "* plot the ROC curve   "
      ]
    },
    {
      "cell_type": "code",
      "metadata": {
        "ExecuteTime": {
          "end_time": "2021-08-12T08:42:44.739783Z",
          "start_time": "2021-08-12T08:42:44.585366Z"
        },
        "id": "MRX-dLRHcV7q"
      },
      "source": [
        "#YOUR CODE HERE\n",
        "logit_model = LogisticRegression(C=1, solver='liblinear')\n",
        "logit_model.fit(df_train[features], df_train[target])\n"
      ],
      "execution_count": null,
      "outputs": []
    },
    {
      "cell_type": "code",
      "metadata": {
        "colab": {
          "base_uri": "https://localhost:8080/"
        },
        "id": "hnweHoqXxvxm",
        "outputId": "7242ed12-0b73-425b-8510-89cc9d2088ae"
      },
      "source": [
        "my_formula=target + ' ~ '\n",
        "for i in range(len(features)):\n",
        "    if i > 0:\n",
        "        my_formula = my_formula + \" + \"       \n",
        "    my_formula = my_formula+ features[i]\n",
        "print(\"Formula: \", my_formula)"
      ],
      "execution_count": 24,
      "outputs": [
        {
          "output_type": "stream",
          "text": [
            "Formula:  fraud ~ transaction_amt + balance + Gas + Restaurant + Retail\n"
          ],
          "name": "stdout"
        }
      ]
    },
    {
      "cell_type": "code",
      "metadata": {
        "colab": {
          "base_uri": "https://localhost:8080/"
        },
        "id": "rNfPx6zYxD_c",
        "outputId": "4d941fa6-0eb2-473b-8503-5e563bc0a29b"
      },
      "source": [
        "import statsmodels.api as sm\n",
        "\n",
        "model = smf.logit(my_formula, data = df_train) \n",
        "logit_model_sm = model.fit()\n",
        "print(logit_model_sm.summary())"
      ],
      "execution_count": 25,
      "outputs": [
        {
          "output_type": "stream",
          "text": [
            "Optimization terminated successfully.\n",
            "         Current function value: 0.089694\n",
            "         Iterations 9\n",
            "                           Logit Regression Results                           \n",
            "==============================================================================\n",
            "Dep. Variable:                  fraud   No. Observations:                21000\n",
            "Model:                          Logit   Df Residuals:                    20995\n",
            "Method:                           MLE   Df Model:                            4\n",
            "Date:                Thu, 12 Aug 2021   Pseudo R-squ.:                 0.01544\n",
            "Time:                        19:13:11   Log-Likelihood:                -1883.6\n",
            "converged:                       True   LL-Null:                       -1913.1\n",
            "Covariance Type:            nonrobust   LLR p-value:                 4.545e-12\n",
            "===================================================================================\n",
            "                      coef    std err          z      P>|z|      [0.025      0.975]\n",
            "-----------------------------------------------------------------------------------\n",
            "Intercept          -2.9812   3.02e+06  -9.86e-07      1.000   -5.93e+06    5.93e+06\n",
            "transaction_amt -9.961e-05      0.000     -0.807      0.420      -0.000       0.000\n",
            "balance         -2.007e-05   2.94e-05     -0.684      0.494   -7.76e-05    3.75e-05\n",
            "Gas                -0.8849   3.02e+06  -2.93e-07      1.000   -5.93e+06    5.93e+06\n",
            "Restaurant         -1.5661   3.02e+06  -5.18e-07      1.000   -5.93e+06    5.93e+06\n",
            "Retail             -0.5302   3.02e+06  -1.75e-07      1.000   -5.93e+06    5.93e+06\n",
            "===================================================================================\n"
          ],
          "name": "stdout"
        }
      ]
    },
    {
      "cell_type": "code",
      "metadata": {
        "colab": {
          "base_uri": "https://localhost:8080/"
        },
        "id": "WviPTEsgyTB5",
        "outputId": "63bf39ed-45ea-495a-a08d-1b1323f592c5"
      },
      "source": [
        "preds = logit_model.predict(df_test[features])\n",
        "preds"
      ],
      "execution_count": 36,
      "outputs": [
        {
          "output_type": "execute_result",
          "data": {
            "text/plain": [
              "array([0, 0, 0, ..., 0, 0, 0])"
            ]
          },
          "metadata": {
            "tags": []
          },
          "execution_count": 36
        }
      ]
    },
    {
      "cell_type": "code",
      "metadata": {
        "colab": {
          "base_uri": "https://localhost:8080/"
        },
        "id": "YVXHAUYtykAX",
        "outputId": "93367025-dbb2-4e7d-e18d-e27f28a0e57d"
      },
      "source": [
        "from sklearn.model_selection import cross_val_score\n",
        "avg_auc = cross_val_score(logit_model, df_train[features], df_train[target], cv=10, scoring=\"roc_auc\").mean()\n",
        "avg_auc"
      ],
      "execution_count": 31,
      "outputs": [
        {
          "output_type": "execute_result",
          "data": {
            "text/plain": [
              "0.5837166621646972"
            ]
          },
          "metadata": {
            "tags": []
          },
          "execution_count": 31
        }
      ]
    },
    {
      "cell_type": "code",
      "metadata": {
        "colab": {
          "base_uri": "https://localhost:8080/",
          "height": 279
        },
        "id": "49mAj7F6z3LD",
        "outputId": "40aa1dc3-1e05-4121-83f5-984a0ae263f0"
      },
      "source": [
        "from sklearn.metrics import roc_curve\n",
        "\n",
        "probs_logit = logit_model.predict_proba(df_test[features])[:, 1]\n",
        "fpr_logit, tpr_logit, thresholds_logit = roc_curve(df_test[target], probs_logit)\n",
        "plt.plot(fpr_logit, tpr_logit, label=\"Logit\")\n",
        "plt.ylabel(\"True positive rate\")\n",
        "plt.xlabel(\"False positive rate\")\n",
        "plt.show()"
      ],
      "execution_count": 34,
      "outputs": [
        {
          "output_type": "display_data",
          "data": {
            "image/png": "[encoded data removed]",
            "text/plain": [
              "<Figure size 432x288 with 1 Axes>"
            ]
          },
          "metadata": {
            "tags": [],
            "needs_background": "light"
          }
        }
      ]
    },
    {
      "cell_type": "markdown",
      "metadata": {
        "id": "tILMTeE232UG"
      },
      "source": [
        " (**Q5**)   *(2 points)*:  Interpret the  results of your evaluation of the logit model in two sentences or less."
      ]
    },
    {
      "cell_type": "markdown",
      "metadata": {
        "id": "87YqpfQt5-un"
      },
      "source": [
        "### YOUR ANSWER HERE"
      ]
    },
    {
      "cell_type": "markdown",
      "metadata": {
        "id": "cGuhL6eA32UH"
      },
      "source": [
        "**(Q6)** *(3 points)* Now fit a decision tree to the data. \n",
        "\n",
        "Once you have estimated the model:\n",
        "* make predictions using the test data: \n",
        "* calculate and report the AUC \n",
        "* plot the ROC curve "
      ]
    },
    {
      "cell_type": "code",
      "metadata": {
        "ExecuteTime": {
          "end_time": "2021-08-12T08:42:48.214524Z",
          "start_time": "2021-08-12T08:42:48.077490Z"
        },
        "id": "ewu0SIQUdx_C",
        "colab": {
          "base_uri": "https://localhost:8080/"
        },
        "outputId": "ad753afa-ac09-4e0f-9b19-27e133dc8617"
      },
      "source": [
        "#YOUR CODE HERE\n",
        "from sklearn.tree import DecisionTreeClassifier\n",
        "\n",
        "cart_model = DecisionTreeClassifier(max_depth=3)\n",
        "cart_model.fit(df_train[features], df_train[target])"
      ],
      "execution_count": 43,
      "outputs": [
        {
          "output_type": "execute_result",
          "data": {
            "text/plain": [
              "DecisionTreeClassifier(ccp_alpha=0.0, class_weight=None, criterion='gini',\n",
              "                       max_depth=3, max_features=None, max_leaf_nodes=None,\n",
              "                       min_impurity_decrease=0.0, min_impurity_split=None,\n",
              "                       min_samples_leaf=1, min_samples_split=2,\n",
              "                       min_weight_fraction_leaf=0.0, presort='deprecated',\n",
              "                       random_state=None, splitter='best')"
            ]
          },
          "metadata": {
            "tags": []
          },
          "execution_count": 43
        }
      ]
    },
    {
      "cell_type": "code",
      "metadata": {
        "colab": {
          "base_uri": "https://localhost:8080/"
        },
        "id": "dJ_g-JMF1bw3",
        "outputId": "ad34b3e2-79ec-4d94-8112-e81a9ad24984"
      },
      "source": [
        "preds_cart = cart_model.predict(df_test[features])\n",
        "preds_cart"
      ],
      "execution_count": 44,
      "outputs": [
        {
          "output_type": "execute_result",
          "data": {
            "text/plain": [
              "array([0, 0, 0, ..., 0, 0, 0])"
            ]
          },
          "metadata": {
            "tags": []
          },
          "execution_count": 44
        }
      ]
    },
    {
      "cell_type": "code",
      "metadata": {
        "colab": {
          "base_uri": "https://localhost:8080/"
        },
        "id": "o6oseAu52uYf",
        "outputId": "3dee9db1-23eb-43c6-dcf2-4aa575ac19fa"
      },
      "source": [
        "avg_auc = cross_val_score(cart_model, df_train[features], df_train[target], cv=10, scoring=\"roc_auc\").mean()\n",
        "avg_auc"
      ],
      "execution_count": 46,
      "outputs": [
        {
          "output_type": "execute_result",
          "data": {
            "text/plain": [
              "0.877569483724462"
            ]
          },
          "metadata": {
            "tags": []
          },
          "execution_count": 46
        }
      ]
    },
    {
      "cell_type": "code",
      "metadata": {
        "colab": {
          "base_uri": "https://localhost:8080/",
          "height": 279
        },
        "id": "OAVKAW7o1pHz",
        "outputId": "26ff7b79-73d5-42e1-e464-88ad56adb4e0"
      },
      "source": [
        "probs_logit = cart_model.predict_proba(df_test[features])[:, 1]\n",
        "fpr_cart, tpr_cart, thresholds_cart = roc_curve(df_test[target], probs_logit)\n",
        "plt.plot(fpr_cart, tpr_cart, label=\"CART\")\n",
        "plt.ylabel(\"True positive rate\")\n",
        "plt.xlabel(\"False positive rate\")\n",
        "plt.show()"
      ],
      "execution_count": 45,
      "outputs": [
        {
          "output_type": "display_data",
          "data": {
            "image/png": "[encoded data removed]",
            "text/plain": [
              "<Figure size 432x288 with 1 Axes>"
            ]
          },
          "metadata": {
            "tags": [],
            "needs_background": "light"
          }
        }
      ]
    },
    {
      "cell_type": "markdown",
      "metadata": {
        "id": "Z6f9g7kB32UH"
      },
      "source": [
        " (**Q7**)   *(2 points)*: Interpret the  reslts of your evaluation of the decision tree model in two sentences or less."
      ]
    },
    {
      "cell_type": "markdown",
      "metadata": {
        "ExecuteTime": {
          "end_time": "2021-08-12T07:42:13.250379Z",
          "start_time": "2021-08-12T07:42:13.244903Z"
        },
        "id": "VaxIHkIl32UI"
      },
      "source": [
        "#### YOUR ANSWER HERE\n"
      ]
    },
    {
      "cell_type": "markdown",
      "metadata": {
        "id": "VnJ0UFMy2VnA"
      },
      "source": [
        "Definitely seems that tree model works better than the Logit one. It works better in the beginnig of the curve, which are good news in order to predicts and increase profits. "
      ]
    },
    {
      "cell_type": "markdown",
      "metadata": {
        "id": "5aacX33p32UI"
      },
      "source": [
        " (**Q8**) *(3 points)* Provide in one sentence each:\n",
        " * a recommendation for which model you would choose, based only on these results: \n",
        " * a possible explanation for the differences you observed between the models' performance based on your knowledge of theses two modeling approaches "
      ]
    },
    {
      "cell_type": "markdown",
      "metadata": {
        "collapsed": true,
        "id": "7nrhAAcDeBtR"
      },
      "source": [
        "#### YOUR ANSWER HERE\n"
      ]
    },
    {
      "cell_type": "markdown",
      "metadata": {
        "id": "qyqJiyYN3EzX"
      },
      "source": [
        "Based on the information used in these models, I will recommend to use the CART model. The power of this model in better than the logit one even testing using K-flod to test the model in defferent data sets."
      ]
    },
    {
      "cell_type": "markdown",
      "metadata": {
        "id": "xykziIPg3bqJ"
      },
      "source": [
        "A possible explanations is that the data set complexity is high, so the logit model will not performs better than the CART one. Also, The noisy data could be a problem to for the Logit model. It seem that this data set present this two escenarios since the CART performs better than the logit one."
      ]
    },
    {
      "cell_type": "code",
      "metadata": {
        "collapsed": true,
        "id": "BF8EC-TO32UI"
      },
      "source": [
        ""
      ],
      "execution_count": null,
      "outputs": []
    }
  ]
}